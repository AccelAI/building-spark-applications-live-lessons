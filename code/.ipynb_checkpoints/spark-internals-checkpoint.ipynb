{
 "cells": [
  {
   "cell_type": "code",
   "execution_count": 1,
   "metadata": {
    "collapsed": true
   },
   "outputs": [],
   "source": [
    "import pyspark as ps\n",
    "sc = ps.SparkContext()"
   ]
  },
  {
   "cell_type": "code",
   "execution_count": 2,
   "metadata": {
    "collapsed": true
   },
   "outputs": [],
   "source": [
    "import os\n",
    "\n",
    "# need to get local path since we are reading local files\n",
    "cwd = os.getcwd()"
   ]
  },
  {
   "cell_type": "code",
   "execution_count": 3,
   "metadata": {
    "collapsed": false
   },
   "outputs": [
    {
     "data": {
      "text/plain": [
       "[u'{\"Jane\": \"2\"}', u'{\"Jane\": \"1\"}']"
      ]
     },
     "execution_count": 3,
     "metadata": {},
     "output_type": "execute_result"
    }
   ],
   "source": [
    "file_rdd = sc.textFile('file://' + cwd + '/data/toy_data.txt')\n",
    "file_rdd.take(2)"
   ]
  },
  {
   "cell_type": "code",
   "execution_count": 4,
   "metadata": {
    "collapsed": false
   },
   "outputs": [
    {
     "data": {
      "text/plain": [
       "2"
      ]
     },
     "execution_count": 4,
     "metadata": {},
     "output_type": "execute_result"
    }
   ],
   "source": [
    "# default OSX block size is 4kb, and minPartitions is 2\n",
    "file_rdd.getNumPartitions()"
   ]
  },
  {
   "cell_type": "code",
   "execution_count": 5,
   "metadata": {
    "collapsed": false
   },
   "outputs": [
    {
     "name": "stdout",
     "output_type": "stream",
     "text": [
      "{\"Jane\": \"2\"}\r\n",
      "{\"Jane\": \"1\"}\r\n",
      "{\"Pete\": \"20\"}\r\n",
      "{\"Tyler\": \"3\"}\r\n",
      "{\"Duncan\": \"4\"}\r\n",
      "{\"Yuki\": \"5\"}\r\n",
      "{\"Duncan\": \"6\"}\r\n",
      "{\"Duncan\": \"4\"}\r\n",
      "{\"Duncan\": \"5\"}\r\n"
     ]
    }
   ],
   "source": [
    "cat data/toy_data.txt"
   ]
  },
  {
   "cell_type": "code",
   "execution_count": 6,
   "metadata": {
    "collapsed": false
   },
   "outputs": [
    {
     "data": {
      "text/plain": [
       "[0,\n",
       " [u'{\"Jane\": \"2\"}',\n",
       "  u'{\"Jane\": \"1\"}',\n",
       "  u'{\"Pete\": \"20\"}',\n",
       "  u'{\"Tyler\": \"3\"}',\n",
       "  u'{\"Duncan\": \"4\"}'],\n",
       " 1,\n",
       " [u'{\"Yuki\": \"5\"}',\n",
       "  u'{\"Duncan\": \"6\"}',\n",
       "  u'{\"Duncan\": \"4\"}',\n",
       "  u'{\"Duncan\": \"5\"}']]"
      ]
     },
     "execution_count": 6,
     "metadata": {},
     "output_type": "execute_result"
    }
   ],
   "source": [
    "file_rdd.mapPartitionsWithIndex(lambda i, iterator: (i, list(iterator))).collect()"
   ]
  },
  {
   "cell_type": "code",
   "execution_count": 7,
   "metadata": {
    "collapsed": true
   },
   "outputs": [],
   "source": [
    "file_rdd = sc.textFile('file://' + cwd + '/data/toy_data.txt', 10)"
   ]
  },
  {
   "cell_type": "code",
   "execution_count": 8,
   "metadata": {
    "collapsed": false
   },
   "outputs": [
    {
     "data": {
      "text/plain": [
       "[0,\n",
       " [u'{\"Jane\": \"2\"}'],\n",
       " 1,\n",
       " [u'{\"Jane\": \"1\"}'],\n",
       " 2,\n",
       " [u'{\"Pete\": \"20\"}'],\n",
       " 3,\n",
       " [u'{\"Tyler\": \"3\"}'],\n",
       " 4,\n",
       " [u'{\"Duncan\": \"4\"}'],\n",
       " 5,\n",
       " [u'{\"Yuki\": \"5\"}'],\n",
       " 6,\n",
       " [u'{\"Duncan\": \"6\"}'],\n",
       " 7,\n",
       " [u'{\"Duncan\": \"4\"}'],\n",
       " 8,\n",
       " [],\n",
       " 9,\n",
       " [u'{\"Duncan\": \"5\"}'],\n",
       " 10,\n",
       " []]"
      ]
     },
     "execution_count": 8,
     "metadata": {},
     "output_type": "execute_result"
    }
   ],
   "source": [
    "# some partitions are empty, can't split a single line\n",
    "file_rdd.mapPartitionsWithIndex(lambda i, iterator: (i, list(iterator))).collect()"
   ]
  },
  {
   "cell_type": "code",
   "execution_count": 9,
   "metadata": {
    "collapsed": true
   },
   "outputs": [],
   "source": [
    "file_rdd = sc.textFile('file://' + cwd + '/data/toy_data.txt', 1)"
   ]
  },
  {
   "cell_type": "code",
   "execution_count": 10,
   "metadata": {
    "collapsed": false
   },
   "outputs": [
    {
     "data": {
      "text/plain": [
       "[0,\n",
       " [u'{\"Jane\": \"2\"}',\n",
       "  u'{\"Jane\": \"1\"}',\n",
       "  u'{\"Pete\": \"20\"}',\n",
       "  u'{\"Tyler\": \"3\"}',\n",
       "  u'{\"Duncan\": \"4\"}',\n",
       "  u'{\"Yuki\": \"5\"}',\n",
       "  u'{\"Duncan\": \"6\"}',\n",
       "  u'{\"Duncan\": \"4\"}',\n",
       "  u'{\"Duncan\": \"5\"}']]"
      ]
     },
     "execution_count": 10,
     "metadata": {},
     "output_type": "execute_result"
    }
   ],
   "source": [
    "file_rdd.mapPartitionsWithIndex(lambda i, iterator: (i, list(iterator))).collect()"
   ]
  },
  {
   "cell_type": "code",
   "execution_count": 11,
   "metadata": {
    "collapsed": false
   },
   "outputs": [],
   "source": [
    "tup_rdd = file_rdd.map(lambda line: json.loads(line)) \\\n",
    "                  .map(lambda d: (d.keys()[0], int(d.values()[0])))\n",
    "\n",
    "out = tup_rdd.groupByKey().mapValues(lambda tup: max(tup.data)) "
   ]
  },
  {
   "cell_type": "code",
   "execution_count": 12,
   "metadata": {
    "collapsed": false
   },
   "outputs": [
    {
     "name": "stdout",
     "output_type": "stream",
     "text": [
      "(1) PythonRDD[14] at RDD at PythonRDD.scala:43 []\n",
      " |  MapPartitionsRDD[8] at textFile at NativeMethodAccessorImpl.java:-2 []\n",
      " |  file:///Users/jonathandinu/Repositories/published/building-spark-applications-live-lessons/code/data/toy_data.txt HadoopRDD[7] at textFile at NativeMethodAccessorImpl.java:-2 []\n"
     ]
    }
   ],
   "source": [
    "print tup_rdd.toDebugString()"
   ]
  },
  {
   "cell_type": "code",
   "execution_count": 13,
   "metadata": {
    "collapsed": false
   },
   "outputs": [
    {
     "name": "stdout",
     "output_type": "stream",
     "text": [
      "(1) PythonRDD[15] at RDD at PythonRDD.scala:43 []\n",
      " |  MapPartitionsRDD[13] at mapPartitions at PythonRDD.scala:346 []\n",
      " |  ShuffledRDD[12] at partitionBy at NativeMethodAccessorImpl.java:-2 []\n",
      " +-(1) PairwiseRDD[11] at groupByKey at <ipython-input-11-5dd19bb9f251>:3 []\n",
      "    |  PythonRDD[10] at groupByKey at <ipython-input-11-5dd19bb9f251>:3 []\n",
      "    |  MapPartitionsRDD[8] at textFile at NativeMethodAccessorImpl.java:-2 []\n",
      "    |  file:///Users/jonathandinu/Repositories/published/building-spark-applications-live-lessons/code/data/toy_data.txt HadoopRDD[7] at textFile at NativeMethodAccessorImpl.java:-2 []\n"
     ]
    }
   ],
   "source": [
    "print out.toDebugString()"
   ]
  },
  {
   "cell_type": "code",
   "execution_count": 14,
   "metadata": {
    "collapsed": false
   },
   "outputs": [
    {
     "name": "stdout",
     "output_type": "stream",
     "text": [
      "(1) MapPartitionsRDD[8] at textFile at NativeMethodAccessorImpl.java:-2 []\n",
      " |  file:///Users/jonathandinu/Repositories/published/building-spark-applications-live-lessons/code/data/toy_data.txt HadoopRDD[7] at textFile at NativeMethodAccessorImpl.java:-2 []\n"
     ]
    }
   ],
   "source": [
    "print file_rdd.toDebugString()"
   ]
  },
  {
   "cell_type": "code",
   "execution_count": 15,
   "metadata": {
    "collapsed": false
   },
   "outputs": [
    {
     "name": "stdout",
     "output_type": "stream",
     "text": [
      "(1) PythonRDD[16] at RDD at PythonRDD.scala:43 []\n",
      " |  MapPartitionsRDD[8] at textFile at NativeMethodAccessorImpl.java:-2 []\n",
      " |  file:///Users/jonathandinu/Repositories/published/building-spark-applications-live-lessons/code/data/toy_data.txt HadoopRDD[7] at textFile at NativeMethodAccessorImpl.java:-2 []\n"
     ]
    }
   ],
   "source": [
    "# doesn't matter if 1 or 100 map transformations\n",
    "print file_rdd.map(lambda line: json.loads(line)).toDebugString()"
   ]
  },
  {
   "cell_type": "code",
   "execution_count": 16,
   "metadata": {
    "collapsed": false
   },
   "outputs": [
    {
     "name": "stdout",
     "output_type": "stream",
     "text": [
      "(1) PythonRDD[14] at RDD at PythonRDD.scala:43 []\n",
      " |  MapPartitionsRDD[8] at textFile at NativeMethodAccessorImpl.java:-2 []\n",
      " |  file:///Users/jonathandinu/Repositories/published/building-spark-applications-live-lessons/code/data/toy_data.txt HadoopRDD[7] at textFile at NativeMethodAccessorImpl.java:-2 []\n"
     ]
    }
   ],
   "source": [
    "print tup_rdd.toDebugString()"
   ]
  },
  {
   "cell_type": "code",
   "execution_count": 17,
   "metadata": {
    "collapsed": false
   },
   "outputs": [
    {
     "name": "stdout",
     "output_type": "stream",
     "text": [
      "(1) PythonRDD[21] at RDD at PythonRDD.scala:43 []\n",
      " |  MapPartitionsRDD[20] at mapPartitions at PythonRDD.scala:346 []\n",
      " |  ShuffledRDD[19] at partitionBy at NativeMethodAccessorImpl.java:-2 []\n",
      " +-(1) PairwiseRDD[18] at groupByKey at <ipython-input-17-62a481cc790d>:1 []\n",
      "    |  PythonRDD[17] at groupByKey at <ipython-input-17-62a481cc790d>:1 []\n",
      "    |  MapPartitionsRDD[8] at textFile at NativeMethodAccessorImpl.java:-2 []\n",
      "    |  file:///Users/jonathandinu/Repositories/published/building-spark-applications-live-lessons/code/data/toy_data.txt HadoopRDD[7] at textFile at NativeMethodAccessorImpl.java:-2 []\n"
     ]
    }
   ],
   "source": [
    "print tup_rdd.groupByKey().toDebugString()"
   ]
  },
  {
   "cell_type": "code",
   "execution_count": 18,
   "metadata": {
    "collapsed": false
   },
   "outputs": [
    {
     "name": "stdout",
     "output_type": "stream",
     "text": [
      "(1) PythonRDD[15] at RDD at PythonRDD.scala:43 []\n",
      " |  MapPartitionsRDD[13] at mapPartitions at PythonRDD.scala:346 []\n",
      " |  ShuffledRDD[12] at partitionBy at NativeMethodAccessorImpl.java:-2 []\n",
      " +-(1) PairwiseRDD[11] at groupByKey at <ipython-input-11-5dd19bb9f251>:3 []\n",
      "    |  PythonRDD[10] at groupByKey at <ipython-input-11-5dd19bb9f251>:3 []\n",
      "    |  MapPartitionsRDD[8] at textFile at NativeMethodAccessorImpl.java:-2 []\n",
      "    |  file:///Users/jonathandinu/Repositories/published/building-spark-applications-live-lessons/code/data/toy_data.txt HadoopRDD[7] at textFile at NativeMethodAccessorImpl.java:-2 []\n"
     ]
    }
   ],
   "source": [
    "print out.toDebugString()"
   ]
  },
  {
   "cell_type": "markdown",
   "metadata": {},
   "source": [
    "## Scala"
   ]
  },
  {
   "cell_type": "markdown",
   "metadata": {},
   "source": [
    "```scala\n",
    "file_rdd.mapPartitionsWithIndex((ind, part) => part.map(x => (ind, x))).collect()\n",
    "\n",
    "file_rdd.map(line => line.split(\" \"))\n",
    "        .map(split => (split(0), split(1).toInt))\n",
    "        .groupByKey()\n",
    "        .mapValues(iter => iter.reduce(_ + _)).collect()\n",
    "\n",
    "file_rdd.map(line => line.split(\" \")).map(split => (split(0), split(1).toInt))\n",
    "                                     .groupByKey()\n",
    "                                     .mapPartitionsWithIndex((ind, part) => part.map(x => (ind, x)))\n",
    "                                     .collect()\n",
    "                                     \n",
    "// res68: Array[(Int, (String, Iterable[Int]))] = Array((0,(anna,CompactBuffer(1))), (0,(jesse,CompactBuffer(3))), (1,(jon,CompactBuffer(2, 1))), (1,(mary,CompactBuffer(3, 5))))\n",
    "```"
   ]
  }
 ],
 "metadata": {
  "kernelspec": {
   "display_name": "Python 2",
   "language": "python",
   "name": "python2"
  },
  "language_info": {
   "codemirror_mode": {
    "name": "ipython",
    "version": 2
   },
   "file_extension": ".py",
   "mimetype": "text/x-python",
   "name": "python",
   "nbconvert_exporter": "python",
   "pygments_lexer": "ipython2",
   "version": "2.7.9"
  }
 },
 "nbformat": 4,
 "nbformat_minor": 0
}
