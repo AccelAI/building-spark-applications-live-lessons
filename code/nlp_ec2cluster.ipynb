{
 "cells": [
  {
   "cell_type": "code",
   "execution_count": 1,
   "metadata": {
    "collapsed": false
   },
   "outputs": [
    {
     "name": "stdout",
     "output_type": "stream",
     "text": [
      "spark://ec2-54-198-93-146.compute-1.amazonaws.com:7077\n"
     ]
    }
   ],
   "source": [
    "print CLUSTER_URL"
   ]
  },
  {
   "cell_type": "code",
   "execution_count": 3,
   "metadata": {
    "collapsed": false
   },
   "outputs": [],
   "source": [
    "import string\n",
    "import json \n",
    "import pickle as pkl\n",
    "from nltk.tokenize import word_tokenize\n",
    "from nltk.corpus import stopwords\n",
    "import pyspark as ps\n",
    "from collections import Counter\n",
    "import numpy as np"
   ]
  },
  {
   "cell_type": "code",
   "execution_count": 4,
   "metadata": {
    "collapsed": false
   },
   "outputs": [],
   "source": [
    "sc = ps.SparkContext(CLUSTER_URL, 'nlp-spark')"
   ]
  },
  {
   "cell_type": "code",
   "execution_count": 5,
   "metadata": {
    "collapsed": false
   },
   "outputs": [
    {
     "data": {
      "text/plain": [
       "u'{\"essay\":\"\\\\\"One of my classes this year has been an 11th grade  English class.  These students will be taking the SAT next year and I know that they are not ready to do well.  \\\\r\\\\\\\\n\\\\r\\\\\\\\nUnlike students in more well-financed school districts, they have not had access to special SAT classes or tutors.  I have been so focused on completing the curriculum and helping them to pass the Regents that I have not had time to do SAT preparation. They do not come from families with extra cash to pay for classes on their own. \\\\r\\\\\\\\n\\\\r\\\\\\\\nI would love to be able to get them a good SAT preparation book before the end of the school term.  In this way, I can get them started so that they can review the book on their own over the summer.\\\\r\\\\\\\\n\\\\\"\"}'"
      ]
     },
     "execution_count": 5,
     "metadata": {},
     "output_type": "execute_result"
    }
   ],
   "source": [
    "essay_rdd = sc.textFile('s3n://galvanize-example-data/donors_choose/essays.json')\n",
    "essay_rdd.first()"
   ]
  },
  {
   "cell_type": "code",
   "execution_count": 7,
   "metadata": {
    "collapsed": false
   },
   "outputs": [],
   "source": [
    "import json\n",
    "\n",
    "row_rdd = essay_rdd.map(lambda x: json.loads(x))"
   ]
  },
  {
   "cell_type": "markdown",
   "metadata": {},
   "source": [
    "## Bag of Words"
   ]
  },
  {
   "cell_type": "code",
   "execution_count": 8,
   "metadata": {
    "collapsed": false
   },
   "outputs": [
    {
     "data": {
      "text/plain": [
       "2"
      ]
     },
     "execution_count": 8,
     "metadata": {},
     "output_type": "execute_result"
    }
   ],
   "source": [
    "row_rdd.getNumPartitions()"
   ]
  },
  {
   "cell_type": "code",
   "execution_count": 9,
   "metadata": {
    "collapsed": false
   },
   "outputs": [],
   "source": [
    "essay_rdd_repartition = row_rdd.repartition(38)"
   ]
  },
  {
   "cell_type": "code",
   "execution_count": 10,
   "metadata": {
    "collapsed": false
   },
   "outputs": [],
   "source": [
    "import nltk, string\n",
    "\n",
    "def tokenize(text):\n",
    "    tokens = [] \n",
    "    \n",
    "    for word in nltk.word_tokenize(text):\n",
    "        if word \\\n",
    "            not in nltk.corpus.stopwords.words('english') \\\n",
    "            and word not in string.punctuation \\\n",
    "            and word != '``':    \n",
    "                tokens.append(word)\n",
    "    \n",
    "    return tokens"
   ]
  },
  {
   "cell_type": "code",
   "execution_count": 11,
   "metadata": {
    "collapsed": false
   },
   "outputs": [],
   "source": [
    "tokenized_rdd = essay_rdd_repartition.filter(lambda row: row['essay'] and row['essay'] != '') \\\n",
    "                       .map(lambda row: row['essay']) \\\n",
    "                       .map(lambda text: text.replace('\\\\n', '').replace('\\r', '')) \\\n",
    "                       .map(lambda text: tokenize(text))"
   ]
  },
  {
   "cell_type": "code",
   "execution_count": 12,
   "metadata": {
    "collapsed": false
   },
   "outputs": [
    {
     "data": {
      "text/plain": [
       "PythonRDD[9] at RDD at PythonRDD.scala:43"
      ]
     },
     "execution_count": 12,
     "metadata": {},
     "output_type": "execute_result"
    }
   ],
   "source": [
    "tokenized_rdd.cache()"
   ]
  },
  {
   "cell_type": "code",
   "execution_count": 13,
   "metadata": {
    "collapsed": false
   },
   "outputs": [],
   "source": [
    "term_frequency = tokenized_rdd.map(lambda terms: Counter(terms))"
   ]
  },
  {
   "cell_type": "code",
   "execution_count": 14,
   "metadata": {
    "collapsed": false
   },
   "outputs": [],
   "source": [
    "document_freqency = term_frequency.flatMap(lambda counts: counts.keys()).map(lambda keys: (keys, 1)).reduceByKey(lambda a, b: a + b)"
   ]
  },
  {
   "cell_type": "code",
   "execution_count": 15,
   "metadata": {
    "collapsed": false
   },
   "outputs": [],
   "source": [
    "num_features = 40000\n",
    "\n",
    "top_terms = document_freqency.top(num_features, key=lambda a: a[1])"
   ]
  },
  {
   "cell_type": "code",
   "execution_count": 17,
   "metadata": {
    "collapsed": false
   },
   "outputs": [],
   "source": [
    "total_docs = tokenized_rdd.count()"
   ]
  },
  {
   "cell_type": "code",
   "execution_count": 18,
   "metadata": {
    "collapsed": false
   },
   "outputs": [],
   "source": [
    "import math\n",
    "\n",
    "idf = map(lambda tup: (tup[0], math.log(float(total_docs) / (1 + tup[1]))), top_terms)"
   ]
  },
  {
   "cell_type": "code",
   "execution_count": 19,
   "metadata": {
    "collapsed": false
   },
   "outputs": [],
   "source": [
    "broadcast_idf = sc.broadcast(idf)\n",
    "\n",
    "def vectorize(tokens):\n",
    "    word_counts = Counter(tokens)\n",
    "    doc_length = sum(word_counts.values())\n",
    "    \n",
    "    vector = [word_counts.get(word[0], 0) * word[1] / float(doc_length) for word in broadcast_idf.value]\n",
    "    return np.array(vector)"
   ]
  },
  {
   "cell_type": "code",
   "execution_count": 20,
   "metadata": {
    "collapsed": false
   },
   "outputs": [],
   "source": [
    "bag_of_words = tokenized_rdd.filter(lambda x: len(x) > 0).map(vectorize)"
   ]
  },
  {
   "cell_type": "code",
   "execution_count": 21,
   "metadata": {
    "collapsed": false
   },
   "outputs": [
    {
     "data": {
      "text/plain": [
       "PythonRDD[16] at RDD at PythonRDD.scala:43"
      ]
     },
     "execution_count": 21,
     "metadata": {},
     "output_type": "execute_result"
    }
   ],
   "source": [
    "bag_of_words.persist()"
   ]
  },
  {
   "cell_type": "markdown",
   "metadata": {},
   "source": [
    "## Kmeans"
   ]
  },
  {
   "cell_type": "code",
   "execution_count": 23,
   "metadata": {
    "collapsed": false
   },
   "outputs": [],
   "source": [
    "sample_data = bag_of_words.sample(False, 0.1)"
   ]
  },
  {
   "cell_type": "code",
   "execution_count": 24,
   "metadata": {
    "collapsed": false
   },
   "outputs": [
    {
     "data": {
      "text/plain": [
       "PythonRDD[17] at RDD at PythonRDD.scala:43"
      ]
     },
     "execution_count": 24,
     "metadata": {},
     "output_type": "execute_result"
    }
   ],
   "source": [
    "sample_data.persist()"
   ]
  },
  {
   "cell_type": "code",
   "execution_count": 25,
   "metadata": {
    "collapsed": false
   },
   "outputs": [],
   "source": [
    "# initialize centroids\n",
    "k = 200\n",
    "\n",
    "centroids = sample_data.takeSample(False, k)"
   ]
  },
  {
   "cell_type": "code",
   "execution_count": 27,
   "metadata": {
    "collapsed": false
   },
   "outputs": [],
   "source": [
    "def Kmeans(features, centers, num_iter):\n",
    "    \n",
    "    # track convergence\n",
    "    error = []\n",
    "    \n",
    "    # compute closest centroid for given data point\n",
    "    def closest_centroid(point, centroids):\n",
    "        distances = [ np.sqrt(np.sum((point - c) ** 2)) for c in centroids ]\n",
    "        return (np.argmin(distances), np.min(distances))\n",
    "    \n",
    "    # format return value appropriately for RDD\n",
    "    def compute_assignments(point, centroids):\n",
    "            closest = closest_centroid(point, centroids)\n",
    "            return (closest[0], (point, 1, closest[1]))\n",
    "\n",
    "    # iterate until convergence or total num_iter\n",
    "    for i in range(num_iter):\n",
    "        \n",
    "        # assign each point to closest centroid\n",
    "        assignments = features.map(lambda x: compute_assignments(x, centers))\n",
    "        \n",
    "        # update centroids to mean of assigned points\n",
    "        means = assignments.reduceByKey(lambda x, y: (x[0] + y[0], x[1] + y[1], x[2] + y[2]))\n",
    "        centroids = means.map(lambda cent: (cent[0], cent[1][0]/cent[1][1])).collect()\n",
    "        \n",
    "        # map each new update to the appropriate position in centroid array\n",
    "        for i, p in centroids:\n",
    "            centers[i] = p\n",
    "            \n",
    "        # compute within-cluster error\n",
    "        WSSE = means.map(lambda x: x[1][2]).sum()\n",
    "        error.append(WSSE)\n",
    "        \n",
    "        # reached convergence?\n",
    "        if len(error) > 1 and error[-2] == error[-1]:\n",
    "            break\n",
    "            \n",
    "    return (assignments, centroids, error)"
   ]
  },
  {
   "cell_type": "code",
   "execution_count": 28,
   "metadata": {
    "collapsed": false
   },
   "outputs": [
    {
     "data": {
      "text/plain": [
       "(PythonRDD[44] at RDD at PythonRDD.scala:43,\n",
       " [(0, array([ 0.00097824,  0.0026617 ,  0.00147913, ...,  0.        ,\n",
       "           0.        ,  0.        ])),\n",
       "  (38, array([ 0.00087889,  0.00478275,  0.00265781, ...,  0.        ,\n",
       "           0.        ,  0.        ])),\n",
       "  (76, array([ 0.00064375,  0.00747691,  0.00153589, ...,  0.        ,\n",
       "           0.        ,  0.        ])),\n",
       "  (114, array([ 0.00080029,  0.00124429,  0.00276585, ...,  0.        ,\n",
       "           0.        ,  0.        ])),\n",
       "  (152, array([ 0.00053513,  0.0032256 ,  0.00174298, ...,  0.        ,\n",
       "           0.        ,  0.        ])),\n",
       "  (190, array([ 0.00067683,  0.00289997,  0.00220891, ...,  0.        ,\n",
       "           0.        ,  0.        ])),\n",
       "  (1, array([ 0.00111858,  0.00086959,  0.0038659 , ...,  0.        ,\n",
       "           0.        ,  0.        ])),\n",
       "  (39, array([ 0.00069883,  0.00314628,  0.00262498, ...,  0.        ,\n",
       "           0.        ,  0.        ])),\n",
       "  (77, array([ 0.00058022,  0.00370053,  0.00340184, ...,  0.        ,\n",
       "           0.        ,  0.        ])),\n",
       "  (115, array([ 0.00067831,  0.0023766 ,  0.00303237, ...,  0.        ,\n",
       "           0.        ,  0.        ])),\n",
       "  (153, array([ 0.00060483,  0.00164568,  0.        , ...,  0.        ,\n",
       "           0.        ,  0.        ])),\n",
       "  (191, array([ 0.00059337,  0.00340389,  0.0021665 , ...,  0.        ,\n",
       "           0.        ,  0.        ])),\n",
       "  (192, array([ 0.00091471,  0.00314562,  0.00312349, ...,  0.        ,\n",
       "           0.        ,  0.        ])),\n",
       "  (2, array([ 0.00062676,  0.00282675,  0.00242068, ...,  0.        ,\n",
       "           0.        ,  0.        ])),\n",
       "  (40, array([ 0.00057835,  0.        ,  0.00183402, ...,  0.        ,\n",
       "           0.        ,  0.        ])),\n",
       "  (78, array([ 0.00064902,  0.        ,  0.        , ...,  0.        ,\n",
       "           0.        ,  0.        ])),\n",
       "  (116, array([ 0.00066716,  0.00220273,  0.00195808, ...,  0.        ,\n",
       "           0.        ,  0.        ])),\n",
       "  (154, array([ 0.00050222,  0.006377  ,  0.        , ...,  0.        ,\n",
       "           0.        ,  0.        ])),\n",
       "  (193, array([ 0.00042187,  0.        ,  0.001701  , ...,  0.        ,\n",
       "           0.        ,  0.        ])),\n",
       "  (3, array([ 0.00066039,  0.00411895,  0.00189672, ...,  0.        ,\n",
       "           0.        ,  0.        ])),\n",
       "  (41, array([ 0.00068596,  0.00248859,  0.00276585, ...,  0.        ,\n",
       "           0.        ,  0.        ])),\n",
       "  (79, array([ 0.00056054,  0.00323562,  0.00256281, ...,  0.        ,\n",
       "           0.        ,  0.        ])),\n",
       "  (117, array([ 0.00048158,  0.        ,  0.        , ...,  0.        ,\n",
       "           0.        ,  0.        ])),\n",
       "  (155, array([ 0.00059839,  0.0037714 ,  0.00179773, ...,  0.        ,\n",
       "           0.        ,  0.        ])),\n",
       "  (194, array([ 0.00071333,  0.00166486,  0.00182148, ...,  0.        ,\n",
       "           0.        ,  0.        ])),\n",
       "  (4, array([ 0.0007572 ,  0.        ,  0.00392538, ...,  0.        ,\n",
       "           0.        ,  0.        ])),\n",
       "  (42, array([ 0.00074667,  0.00270881,  0.        , ...,  0.        ,\n",
       "           0.        ,  0.        ])),\n",
       "  (80, array([ 0.00060178,  0.00372059,  0.00207791, ...,  0.        ,\n",
       "           0.        ,  0.        ])),\n",
       "  (118, array([ 0.00055809,  0.00251722,  0.00169422, ...,  0.        ,\n",
       "           0.        ,  0.        ])),\n",
       "  (156, array([ 0.00097461,  0.        ,  0.00168416, ...,  0.        ,\n",
       "           0.        ,  0.        ])),\n",
       "  (195, array([ 0.00059839,  0.00651268,  0.00542872, ...,  0.        ,\n",
       "           0.        ,  0.        ])),\n",
       "  (5, array([ 0.00054566,  0.00413255,  0.00187368, ...,  0.        ,\n",
       "           0.        ,  0.        ])),\n",
       "  (43, array([ 0.00096152,  0.        ,  0.00581538, ...,  0.        ,\n",
       "           0.        ,  0.        ])),\n",
       "  (81, array([ 0.00039217,  0.00243901,  0.00203306, ...,  0.04134896,\n",
       "           0.        ,  0.        ])),\n",
       "  (119, array([ 0.00071909,  0.        ,  0.0038659 , ...,  0.        ,\n",
       "           0.        ,  0.        ])),\n",
       "  (157, array([ 0.00037499,  0.00408128,  0.        , ...,  0.        ,\n",
       "           0.        ,  0.        ])),\n",
       "  (196, array([ 0.0003872 ,  0.00629953,  0.00192399, ...,  0.        ,\n",
       "           0.        ,  0.        ])),\n",
       "  (6, array([ 0.00058379,  0.00191868,  0.00162714, ...,  0.        ,\n",
       "           0.        ,  0.        ])),\n",
       "  (44, array([ 0.00067007,  0.00292274,  0.00210454, ...,  0.        ,\n",
       "           0.        ,  0.        ])),\n",
       "  (82, array([ 0.00028698,  0.00156171,  0.        , ...,  0.        ,\n",
       "           0.        ,  0.        ])),\n",
       "  (120, array([ 0.00099555,  0.00270881,  0.00150531, ...,  0.        ,\n",
       "           0.        ,  0.        ])),\n",
       "  (158, array([ 0.0005703 ,  0.00375067,  0.00194758, ...,  0.        ,\n",
       "           0.        ,  0.        ])),\n",
       "  (197, array([ 0.00053212,  0.00390404,  0.00221468, ...,  0.        ,\n",
       "           0.        ,  0.        ])),\n",
       "  (7, array([ 0.00065154,  0.00286744,  0.00203611, ...,  0.        ,\n",
       "           0.        ,  0.        ])),\n",
       "  (45, array([ 0.00065286,  0.00274728,  0.00259707, ...,  0.        ,\n",
       "           0.        ,  0.        ])),\n",
       "  (83, array([ 0.00056206,  0.00354373,  0.00289967, ...,  0.        ,\n",
       "           0.        ,  0.        ])),\n",
       "  (121, array([ 0.00085336,  0.0026435 ,  0.00093295, ...,  0.        ,\n",
       "           0.        ,  0.        ])),\n",
       "  (159, array([ 0.00061751,  0.00309953,  0.00195724, ...,  0.        ,\n",
       "           0.        ,  0.        ])),\n",
       "  (160, array([ 0.00054877,  0.00074658,  0.        , ...,  0.        ,\n",
       "           0.        ,  0.        ])),\n",
       "  (198, array([ 0.00065123,  0.00289002,  0.00326749, ...,  0.        ,\n",
       "           0.        ,  0.        ])),\n",
       "  (8, array([ 0.00055419,  0.00440422,  0.0022118 , ...,  0.        ,\n",
       "           0.        ,  0.        ])),\n",
       "  (46, array([ 0.00120269,  0.        ,  0.00559539, ...,  0.        ,\n",
       "           0.        ,  0.        ])),\n",
       "  (84, array([ 0.00052551,  0.00465483,  0.00156278, ...,  0.        ,\n",
       "           0.        ,  0.        ])),\n",
       "  (122, array([ 0.0005877 ,  0.00333961,  0.00257307, ...,  0.        ,\n",
       "           0.        ,  0.        ])),\n",
       "  (161, array([ 0.00044999,  0.        ,  0.        , ...,  0.        ,\n",
       "           0.        ,  0.        ])),\n",
       "  (199, array([ 0.,  0.,  0., ...,  0.,  0.,  0.])),\n",
       "  (9, array([ 0.00064371,  0.00217721,  0.00180348, ...,  0.        ,\n",
       "           0.        ,  0.        ])),\n",
       "  (47, array([ 0.00054587,  0.00373105,  0.00232903, ...,  0.        ,\n",
       "           0.        ,  0.        ])),\n",
       "  (85, array([ 0.0003189 ,  0.00318891,  0.00194512, ...,  0.        ,\n",
       "           0.        ,  0.        ])),\n",
       "  (123, array([ 0.00097586,  0.00506605,  0.00256829, ...,  0.        ,\n",
       "           0.        ,  0.        ])),\n",
       "  (48, array([ 0.00068012,  0.00373036,  0.00140667, ...,  0.        ,\n",
       "           0.        ,  0.        ])),\n",
       "  (162, array([ 0.00045394,  0.00246549,  0.00381268, ...,  0.        ,\n",
       "           0.        ,  0.        ])),\n",
       "  (124, array([ 0.00053279,  0.00327956,  0.00180147, ...,  0.        ,\n",
       "           0.        ,  0.        ])),\n",
       "  (10, array([ 0.00052082,  0.00188948,  0.00419999, ...,  0.        ,\n",
       "           0.        ,  0.        ])),\n",
       "  (86, array([ 0.00063399,  0.00355722,  0.0019463 , ...,  0.        ,\n",
       "           0.        ,  0.        ])),\n",
       "  (49, array([ 0.00058141,  0.00359412,  0.00246692, ...,  0.        ,\n",
       "           0.        ,  0.        ])),\n",
       "  (11, array([ 0.00068814,  0.00330554,  0.00214724, ...,  0.        ,\n",
       "           0.        ,  0.        ])),\n",
       "  (125, array([ 0.00038351,  0.00695673,  0.00309272, ...,  0.        ,\n",
       "           0.        ,  0.        ])),\n",
       "  (163, array([ 0.00073856,  0.00312259,  0.00246016, ...,  0.        ,\n",
       "           0.        ,  0.        ])),\n",
       "  (87, array([ 0.0007256 ,  0.00248106,  0.00274934, ...,  0.        ,\n",
       "           0.        ,  0.        ])),\n",
       "  (88, array([ 0.00059279,  0.00340123,  0.00263155, ...,  0.        ,\n",
       "           0.        ,  0.        ])),\n",
       "  (12, array([ 0.00029156,  0.0055566 ,  0.00622736, ...,  0.        ,\n",
       "           0.        ,  0.        ])),\n",
       "  (50, array([ 0.00055259,  0.00327615,  0.00239058, ...,  0.        ,\n",
       "           0.        ,  0.        ])),\n",
       "  (164, array([ 0.00066452,  0.00336528,  0.00189621, ...,  0.        ,\n",
       "           0.        ,  0.        ])),\n",
       "  (126, array([ 0.0004218 ,  0.00361056,  0.00158742, ...,  0.        ,\n",
       "           0.        ,  0.        ])),\n",
       "  (89, array([ 0.00060151,  0.00266792,  0.00294296, ...,  0.        ,\n",
       "           0.        ,  0.        ])),\n",
       "  (51, array([ 0.00061247,  0.00399145,  0.00207479, ...,  0.        ,\n",
       "           0.        ,  0.        ])),\n",
       "  (13, array([ 0.00028564,  0.00376051,  0.00128493, ...,  0.        ,\n",
       "           0.        ,  0.        ])),\n",
       "  (165, array([ 0.00062039,  0.00675212,  0.00250147, ...,  0.        ,\n",
       "           0.        ,  0.        ])),\n",
       "  (127, array([ 0.00053639,  0.00286507,  0.00166381, ...,  0.        ,\n",
       "           0.        ,  0.        ])),\n",
       "  (128, array([ 0.00068691,  0.00304491,  0.00191804, ...,  0.        ,\n",
       "           0.        ,  0.        ])),\n",
       "  (90, array([ 0.00043268,  0.00353188,  0.00130846, ...,  0.        ,\n",
       "           0.        ,  0.        ])),\n",
       "  (52, array([ 0.00057174,  0.00250963,  0.00367495, ...,  0.        ,\n",
       "           0.        ,  0.        ])),\n",
       "  (166, array([ 0.00056741,  0.0027587 ,  0.00233836, ...,  0.        ,\n",
       "           0.        ,  0.        ])),\n",
       "  (14, array([ 0.00059974,  0.00182025,  0.00267014, ...,  0.        ,\n",
       "           0.        ,  0.        ])),\n",
       "  (15, array([ 0.0005095 ,  0.00110904,  0.00369782, ...,  0.        ,\n",
       "           0.        ,  0.        ])),\n",
       "  (129, array([ 0.00056249,  0.00306096,  0.003402  , ...,  0.        ,\n",
       "           0.        ,  0.        ])),\n",
       "  (91, array([  6.63153178e-04,   2.91347350e-03,   2.47610882e-03, ...,\n",
       "            0.00000000e+00,   0.00000000e+00,   3.87843991e-05])),\n",
       "  (53, array([ 0.00062768,  0.00296427,  0.00204574, ...,  0.        ,\n",
       "           0.        ,  0.        ])),\n",
       "  (167, array([ 0.00046883,  0.00301226,  0.00269863, ...,  0.        ,\n",
       "           0.        ,  0.        ])),\n",
       "  (16, array([ 0.00083008,  0.00210331,  0.0036949 , ...,  0.        ,\n",
       "           0.        ,  0.        ])),\n",
       "  (168, array([ 0.00084373,  0.00102032,  0.00453599, ...,  0.        ,\n",
       "           0.        ,  0.        ])),\n",
       "  (130, array([ 0.00066175,  0.00090028,  0.00400235, ...,  0.        ,\n",
       "           0.        ,  0.        ])),\n",
       "  (92, array([ 0.00065375,  0.00367916,  0.00172201, ...,  0.        ,\n",
       "           0.        ,  0.        ])),\n",
       "  (54, array([ 0.00077375,  0.00218934,  0.00252173, ...,  0.        ,\n",
       "           0.        ,  0.        ])),\n",
       "  (17, array([ 0.00061139,  0.00358248,  0.00175947, ...,  0.        ,\n",
       "           0.        ,  0.        ])),\n",
       "  (131, array([ 0.00062564,  0.00407263,  0.00218218, ...,  0.        ,\n",
       "           0.        ,  0.        ])),\n",
       "  (93, array([ 0.00061775,  0.00392949,  0.00176468, ...,  0.        ,\n",
       "           0.        ,  0.        ])),\n",
       "  (169, array([ 0.00038632,  0.00084092,  0.00093461, ...,  0.        ,\n",
       "           0.        ,  0.        ])),\n",
       "  (55, array([ 0.00053707,  0.00233024,  0.0020534 , ...,  0.        ,\n",
       "           0.        ,  0.        ])),\n",
       "  (56, array([ 0.0006173 ,  0.00185649,  0.00201201, ...,  0.        ,\n",
       "           0.        ,  0.        ])),\n",
       "  (18, array([  5.76983169e-04,   3.49813357e-03,   2.19353846e-03, ...,\n",
       "            0.00000000e+00,   0.00000000e+00,   1.43376419e-05])),\n",
       "  (132, array([ 0.00040198,  0.00137881,  0.00472112, ...,  0.        ,\n",
       "           0.        ,  0.        ])),\n",
       "  (170, array([ 0.00054045,  0.0035623 ,  0.00216518, ...,  0.        ,\n",
       "           0.        ,  0.        ])),\n",
       "  (94, array([ 0.00061605,  0.00832457,  0.00338244, ...,  0.        ,\n",
       "           0.        ,  0.        ])),\n",
       "  (19, array([ 0.00071655,  0.00194966,  0.00325031, ...,  0.        ,\n",
       "           0.        ,  0.        ])),\n",
       "  (57, array([ 0.00062011,  0.00328242,  0.00183993, ...,  0.        ,\n",
       "           0.        ,  0.        ])),\n",
       "  (171, array([ 0.00062546,  0.00305146,  0.00199156, ...,  0.        ,\n",
       "           0.        ,  0.        ])),\n",
       "  (133, array([ 0.00059274,  0.00237771,  0.00202384, ...,  0.        ,\n",
       "           0.        ,  0.        ])),\n",
       "  (95, array([ 0.00060483,  0.00164568,  0.00548709, ...,  0.        ,\n",
       "           0.        ,  0.        ])),\n",
       "  (96, array([ 0.00058705,  0.00250587,  0.00253377, ...,  0.        ,\n",
       "           0.        ,  0.        ])),\n",
       "  (172, array([ 0.00059584,  0.00330506,  0.00169662, ...,  0.        ,\n",
       "           0.        ,  0.        ])),\n",
       "  (58, array([ 0.00089759,  0.00325634,  0.        , ...,  0.        ,\n",
       "           0.        ,  0.        ])),\n",
       "  (20, array([ 0.00058225,  0.00263579,  0.00253809, ...,  0.        ,\n",
       "           0.        ,  0.00027255])),\n",
       "  (134, array([ 0.00060065,  0.00335813,  0.00158535, ...,  0.        ,\n",
       "           0.        ,  0.        ])),\n",
       "  (97, array([ 0.00042457,  0.00271355,  0.00148237, ...,  0.        ,\n",
       "           0.        ,  0.        ])),\n",
       "  (59, array([ 0.00072114,  0.00294323,  0.0065423 , ...,  0.        ,\n",
       "           0.        ,  0.        ])),\n",
       "  (21, array([ 0.00057787,  0.00358696,  0.0019078 , ...,  0.        ,\n",
       "           0.        ,  0.        ])),\n",
       "  (173, array([ 0.00011622,  0.0063243 ,  0.00140578, ...,  0.        ,\n",
       "           0.        ,  0.        ])),\n",
       "  (135, array([ 0.00093748,  0.0051016 ,  0.002835  , ...,  0.        ,\n",
       "           0.        ,  0.        ])),\n",
       "  (136, array([ 0.00057836,  0.00337514,  0.00247375, ...,  0.        ,\n",
       "           0.        ,  0.        ])),\n",
       "  (98, array([ 0.00054992,  0.00598512,  0.        , ...,  0.        ,\n",
       "           0.        ,  0.        ])),\n",
       "  (60, array([ 0.00057113,  0.00261004,  0.00246823, ...,  0.        ,\n",
       "           0.        ,  0.        ])),\n",
       "  (22, array([ 0.00059298,  0.        ,  0.00614818, ...,  0.        ,\n",
       "           0.        ,  0.        ])),\n",
       "  (174, array([ 0.00066891,  0.00266426,  0.00171986, ...,  0.        ,\n",
       "           0.        ,  0.        ])),\n",
       "  (137, array([ 0.00046568,  0.00545406,  0.00175225, ...,  0.        ,\n",
       "           0.        ,  0.        ])),\n",
       "  (175, array([ 0.00062208,  0.00198521,  0.00225075, ...,  0.00036555,\n",
       "           0.        ,  0.        ])),\n",
       "  (99, array([ 0.00062466,  0.00449315,  0.00198252, ...,  0.        ,\n",
       "           0.        ,  0.        ])),\n",
       "  (61, array([ 0.00058958,  0.00443736,  0.00210066, ...,  0.        ,\n",
       "           0.        ,  0.        ])),\n",
       "  (23, array([ 0.00061089,  0.00328546,  0.0028722 , ...,  0.        ,\n",
       "           0.        ,  0.        ])),\n",
       "  (24, array([ 0.0005713 ,  0.00365542,  0.00229   , ...,  0.        ,\n",
       "           0.        ,  0.        ])),\n",
       "  (176, array([ 0.00055418,  0.00150786,  0.00167586, ...,  0.        ,\n",
       "           0.        ,  0.        ])),\n",
       "  (138, array([ 0.0003629 ,  0.00098741,  0.00219484, ...,  0.        ,\n",
       "           0.        ,  0.        ])),\n",
       "  (100, array([ 0.00065103,  0.        ,  0.00315   , ...,  0.        ,\n",
       "           0.        ,  0.        ])),\n",
       "  (62, array([ 0.00067147,  0.00429727,  0.0020052 , ...,  0.        ,\n",
       "           0.        ,  0.        ])),\n",
       "  (25, array([ 0.00063894,  0.0037625 ,  0.00196491, ...,  0.        ,\n",
       "           0.        ,  0.        ])),\n",
       "  (139, array([ 0.00095661,  0.00520571,  0.00809999, ...,  0.        ,\n",
       "           0.        ,  0.        ])),\n",
       "  (101, array([ 0.00064459,  0.00315882,  0.00170264, ...,  0.        ,\n",
       "           0.        ,  0.        ])),\n",
       "  (177, array([ 0.0006895 ,  0.0022843 ,  0.01045273, ...,  0.        ,\n",
       "           0.        ,  0.        ])),\n",
       "  (63, array([ 0.00083332,  0.00113369,  0.00252   , ...,  0.        ,\n",
       "           0.        ,  0.        ])),\n",
       "  (64, array([ 0.00027333,  0.00533506,  0.00137238, ...,  0.        ,\n",
       "           0.        ,  0.        ])),\n",
       "  (178, array([ 0.00051276,  0.00420467,  0.00188046, ...,  0.        ,\n",
       "           0.        ,  0.        ])),\n",
       "  (140, array([ 0.00070881,  0.00311176,  0.00296112, ...,  0.        ,\n",
       "           0.        ,  0.        ])),\n",
       "  (26, array([ 0.00064044,  0.0049733 ,  0.00182298, ...,  0.        ,\n",
       "           0.        ,  0.        ])),\n",
       "  (102, array([ 0.00083704,  0.001822  ,  0.        , ...,  0.        ,\n",
       "           0.        ,  0.        ])),\n",
       "  (65, array([ 0.00047831,  0.00104114,  0.00231428, ...,  0.        ,\n",
       "           0.        ,  0.        ])),\n",
       "  (179, array([ 0.00061862,  0.00307027,  0.00232384, ...,  0.        ,\n",
       "           0.        ,  0.        ])),\n",
       "  (27, array([ 0.00052331,  0.00353336,  0.00207448, ...,  0.        ,\n",
       "           0.        ,  0.        ])),\n",
       "  (141, array([ 0.00051162,  0.00353617,  0.00243666, ...,  0.        ,\n",
       "           0.        ,  0.        ])),\n",
       "  (103, array([ 0.00059867,  0.00324093,  0.00235886, ...,  0.        ,\n",
       "           0.        ,  0.        ])),\n",
       "  (104, array([ 0.0005513 ,  0.00319663,  0.00198286, ...,  0.        ,\n",
       "           0.        ,  0.        ])),\n",
       "  (180, array([ 0.00023243,  0.00126486,  0.00421735, ...,  0.        ,\n",
       "           0.        ,  0.        ])),\n",
       "  (66, array([ 0.0004763 ,  0.00221018,  0.00346792, ...,  0.        ,\n",
       "           0.        ,  0.        ])),\n",
       "  (28,\n",
       "   array([ 0.0001116,  0.003644 ,  0.00135  , ...,  0.       ,  0.       ,  0.       ])),\n",
       "  (142, array([ 0.00071909,  0.        ,  0.0038659 , ...,  0.        ,\n",
       "           0.        ,  0.        ])),\n",
       "  (105, array([ 0.00060262,  0.00402218,  0.00323914, ...,  0.        ,\n",
       "           0.        ,  0.        ])),\n",
       "  (67, array([ 0.00053846,  0.00368551,  0.00208153, ...,  0.        ,\n",
       "           0.        ,  0.        ])),\n",
       "  (143, array([ 0.00062499,  0.0102032 ,  0.00126   , ...,  0.        ,\n",
       "           0.        ,  0.        ])),\n",
       "  (29, array([ 0.00063445,  0.00322697,  0.00181775, ...,  0.        ,\n",
       "           0.        ,  0.        ])),\n",
       "  (181, array([ 0.00063966,  0.00203662,  0.00240186, ...,  0.        ,\n",
       "           0.        ,  0.        ])),\n",
       "  (144, array([ 0.00046356,  0.0032318 ,  0.00220469, ...,  0.        ,\n",
       "           0.        ,  0.        ])),\n",
       "  (106, array([ 0.00057096,  0.00413351,  0.00186984, ...,  0.        ,\n",
       "           0.        ,  0.        ])),\n",
       "  (68, array([  5.82032495e-04,   3.01424663e-03,   2.12551584e-03, ...,\n",
       "            2.07663222e-05,   0.00000000e+00,   0.00000000e+00])),\n",
       "  (30, array([ 0.,  0.,  0., ...,  0.,  0.,  0.])),\n",
       "  (182, array([ 0.00038351,  0.00278269,  0.00154636, ...,  0.        ,\n",
       "           0.        ,  0.        ])),\n",
       "  (31, array([ 0.        ,  0.00250898,  0.        , ...,  0.        ,\n",
       "           0.        ,  0.        ])),\n",
       "  (145, array([ 0.00045677,  0.00394359,  0.00172808, ...,  0.        ,\n",
       "           0.        ,  0.        ])),\n",
       "  (107, array([ 0.00120533,  0.0010932 ,  0.001215  , ...,  0.        ,\n",
       "           0.        ,  0.        ])),\n",
       "  (69, array([ 0.00053531,  0.00397703,  0.0020461 , ...,  0.        ,\n",
       "           0.        ,  0.        ])),\n",
       "  (183, array([ 0.00060291,  0.00348741,  0.00246648, ...,  0.        ,\n",
       "           0.        ,  0.        ])),\n",
       "  (32, array([ 0.00057172,  0.0036462 ,  0.00193096, ...,  0.        ,\n",
       "           0.        ,  0.        ])),\n",
       "  (184, array([ 0.00046874,  0.00204064,  0.001134  , ...,  0.        ,\n",
       "           0.        ,  0.        ])),\n",
       "  (146, array([ 0.00086347,  0.00134253,  0.00298421, ...,  0.        ,\n",
       "           0.        ,  0.        ])),\n",
       "  (108, array([ 0.00015467,  0.00265863,  0.00228564, ...,  0.        ,\n",
       "           0.        ,  0.        ])),\n",
       "  (70, array([ 0.00047189,  0.00102717,  0.00228322, ...,  0.        ,\n",
       "           0.        ,  0.        ])),\n",
       "  (33, array([ 0.00052977,  0.00371637,  0.00316916, ...,  0.        ,\n",
       "           0.        ,  0.        ])),\n",
       "  (147, array([ 0.00066395,  0.00384014,  0.00155707, ...,  0.        ,\n",
       "           0.        ,  0.        ])),\n",
       "  (109, array([ 0.00082761,  0.00292634,  0.0023375 , ...,  0.        ,\n",
       "           0.        ,  0.        ])),\n",
       "  (185, array([ 0.00127838,  0.00608714,  0.        , ...,  0.        ,\n",
       "           0.        ,  0.        ])),\n",
       "  (71, array([ 0.00059047,  0.00352952,  0.00248859, ...,  0.        ,\n",
       "           0.        ,  0.        ])),\n",
       "  (72, array([ 0.00063706,  0.00358856,  0.00194592, ...,  0.        ,\n",
       "           0.        ,  0.        ])),\n",
       "  (186, array([ 0.00080734,  0.00403691,  0.00160975, ...,  0.        ,\n",
       "           0.        ,  0.        ])),\n",
       "  (148, array([ 0.00068053,  0.00331302,  0.00310522, ...,  0.        ,\n",
       "           0.        ,  0.        ])),\n",
       "  (34, array([ 0.00102894,  0.        ,  0.        , ...,  0.        ,\n",
       "           0.        ,  0.        ])),\n",
       "  (110, array([ 0.00059704,  0.00273136,  0.00257746, ...,  0.        ,\n",
       "           0.        ,  0.        ])),\n",
       "  (73, array([ 0.00056607,  0.00276808,  0.00208183, ...,  0.        ,\n",
       "           0.0005949 ,  0.        ])),\n",
       "  (187, array([ 0.00056197,  0.00602182,  0.0020063 , ...,  0.        ,\n",
       "           0.        ,  0.        ])),\n",
       "  (149, array([ 0.00046106,  0.00627246,  0.        , ...,  0.        ,\n",
       "           0.        ,  0.        ])),\n",
       "  (35, array([ 0.00062222,  0.00541763,  0.00451592, ...,  0.        ,\n",
       "           0.        ,  0.        ])),\n",
       "  (111, array([ 0.00080355,  0.0010932 ,  0.00364499, ...,  0.        ,\n",
       "           0.        ,  0.        ])),\n",
       "  (112, array([ 0.00058404,  0.00353018,  0.00192982, ...,  0.        ,\n",
       "           0.        ,  0.        ])),\n",
       "  (188, array([ 0.00059586,  0.00129702,  0.00576609, ...,  0.        ,\n",
       "           0.        ,  0.        ])),\n",
       "  (74, array([ 0.00087889,  0.00159425,  0.00177187, ...,  0.        ,\n",
       "           0.        ,  0.        ])),\n",
       "  (36, array([ 0.00051172,  0.00403392,  0.00166336, ...,  0.        ,\n",
       "           0.        ,  0.        ])),\n",
       "  (150, array([ 0.00085626,  0.00199028,  0.00469405, ...,  0.        ,\n",
       "           0.        ,  0.        ])),\n",
       "  (113, array([ 0.00063727,  0.00341366,  0.00166846, ...,  0.        ,\n",
       "           0.        ,  0.        ])),\n",
       "  (37, array([ 0.00065711,  0.00143036,  0.00158972, ...,  0.        ,\n",
       "           0.        ,  0.        ])),\n",
       "  (75, array([ 0.00075142,  0.00233661,  0.00519389, ...,  0.        ,\n",
       "           0.        ,  0.        ])),\n",
       "  (189, array([ 0.00047026,  0.00122416,  0.00221835, ...,  0.        ,\n",
       "           0.        ,  0.        ])),\n",
       "  (151, array([ 0.00051657,  0.00377086,  0.00233571, ...,  0.        ,\n",
       "           0.        ,  0.        ]))],\n",
       " [24283.818427062164, 24093.782348424036, 23992.661854413414])"
      ]
     },
     "execution_count": 28,
     "metadata": {},
     "output_type": "execute_result"
    }
   ],
   "source": [
    "text_results = Kmeans(sample_data, centroids, 3)\n",
    "text_results"
   ]
  },
  {
   "cell_type": "code",
   "execution_count": 31,
   "metadata": {
    "collapsed": false
   },
   "outputs": [
    {
     "data": {
      "text/plain": [
       "array([[  136, 17597],\n",
       "       [   51,  8969],\n",
       "       [   68,  5162],\n",
       "       [   18,  4692],\n",
       "       [   44,  3750],\n",
       "       [  122,  2282],\n",
       "       [   25,  2271],\n",
       "       [   91,  2037],\n",
       "       [   77,  1869],\n",
       "       [   49,  1726]])"
      ]
     },
     "execution_count": 31,
     "metadata": {},
     "output_type": "execute_result"
    }
   ],
   "source": [
    "filtered_res = text_results[0].reduceByKey(lambda x, y:  (x[0] ,x[1] + y[1]))\n",
    "common = filtered_res.map(lambda tup: (tup[0], tup[1][1])).filter(lambda x: x[1] > 1).collect()\n",
    "topics = np.array(common)\n",
    "top_topics = np.argsort(topics[:,1])[::-1][:10]\n",
    "topics[top_topics]"
   ]
  },
  {
   "cell_type": "code",
   "execution_count": 33,
   "metadata": {
    "collapsed": false
   },
   "outputs": [
    {
     "name": "stdout",
     "output_type": "stream",
     "text": [
      "Top Words for each Cluster:\n",
      "\n",
      "136: '', would, reading, work, We, children, world, 's, learning, class, They, year, student, technology, classroom, Our, want, community, able, make\n",
      "\n",
      "\n",
      "51: books, reading, read, book, library, readers, listening, '', love, level, center, literature, stories, children, listen, home, grade, want, comprehension, fluency\n",
      "\n",
      "\n",
      "68: science, Science, hands-on, '', lab, materials, plants, water, scientific, animals, life, experience, world, concepts, explore, see, scientists, learning, activities, labs\n",
      "\n",
      "\n",
      "18: games, play, fun, materials, skills, children, activities, game, learning, '', kindergarten, learn, practice, recess, equipment, center, These, language, time, math\n",
      "\n",
      "\n",
      "44: technology, iPad, apps, access, use, tablet, learning, math, iPod, classroom, world, skills, using, would, Technology, research, computer, able, computers, educational\n",
      "\n",
      "\n",
      "122: camera, document, digital, pictures, cameras, yearbook, technology, see, photos, would, video, share, '', take, capture, projects, photography, work, able, class\n",
      "\n",
      "\n",
      "25: math, manipulatives, concepts, games, Math, materials, hands-on, skills, '', fun, numbers, mathematical, practice, problems, activities, number, understanding, learning, mathematics, centers\n",
      "\n",
      "\n",
      "91: computer, computers, headphones, technology, laptop, access, lab, programs, research, use, Internet, software, would, work, classroom, skills, home, projects, math, able\n",
      "\n",
      "\n",
      "77: supplies, paper, pencils, markers, basic, crayons, art, glue, projects, colored, materials, year, construction, scissors, pencil, need, create, '', supply, creative\n",
      "\n",
      "\n",
      "49: art, paint, artists, supplies, create, Art, painting, projects, creative, arts, express, clay, artwork, materials, artist, paper, drawing, '', artistic, creativity\n",
      "\n",
      "\n"
     ]
    }
   ],
   "source": [
    "import pandas as pd\n",
    "top_n = 20\n",
    "df = pd.DataFrame(text_results[1])\n",
    "\n",
    "df.columns = ['a', 'b']\n",
    "df_index = df.set_index('a')\n",
    "\n",
    "print \"Top Words for each Cluster:\\n\"\n",
    "\n",
    "for i , v in df_index.loc[topics[top_topics][:,0]].iterrows():\n",
    "    print \"%d: %s\" % (i, \", \".join(top_terms[j][0] for j in v.b.argsort()[::-1][:top_n]))\n",
    "    print \"\\n\""
   ]
  }
 ],
 "metadata": {
  "kernelspec": {
   "display_name": "Python 2",
   "language": "python",
   "name": "python2"
  },
  "language_info": {
   "codemirror_mode": {
    "name": "ipython",
    "version": 2
   },
   "file_extension": ".py",
   "mimetype": "text/x-python",
   "name": "python",
   "nbconvert_exporter": "python",
   "pygments_lexer": "ipython2",
   "version": "2.7.9"
  }
 },
 "nbformat": 4,
 "nbformat_minor": 0
}
